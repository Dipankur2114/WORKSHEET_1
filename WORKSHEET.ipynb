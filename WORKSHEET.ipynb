{
 "cells": [
  {
   "cell_type": "code",
   "execution_count": 1,
   "id": "0c316895",
   "metadata": {},
   "outputs": [
    {
     "data": {
      "text/plain": [
       "24"
      ]
     },
     "execution_count": 1,
     "metadata": {},
     "output_type": "execute_result"
    }
   ],
   "source": [
    "6<<2 "
   ]
  },
  {
   "cell_type": "code",
   "execution_count": 2,
   "id": "72200d2a",
   "metadata": {},
   "outputs": [
    {
     "data": {
      "text/plain": [
       "0"
      ]
     },
     "execution_count": 2,
     "metadata": {},
     "output_type": "execute_result"
    }
   ],
   "source": [
    "2//3 "
   ]
  },
  {
   "cell_type": "code",
   "execution_count": 3,
   "id": "6b923cdb",
   "metadata": {},
   "outputs": [
    {
     "data": {
      "text/plain": [
       "2"
      ]
     },
     "execution_count": 3,
     "metadata": {},
     "output_type": "execute_result"
    }
   ],
   "source": [
    "6&2 "
   ]
  },
  {
   "cell_type": "code",
   "execution_count": 4,
   "id": "338724ef",
   "metadata": {},
   "outputs": [
    {
     "data": {
      "text/plain": [
       "6"
      ]
     },
     "execution_count": 4,
     "metadata": {},
     "output_type": "execute_result"
    }
   ],
   "source": [
    "6|2 "
   ]
  },
  {
   "cell_type": "code",
   "execution_count": 5,
   "id": "a7ec6488",
   "metadata": {},
   "outputs": [],
   "source": [
    "import re\n"
   ]
  },
  {
   "cell_type": "code",
   "execution_count": 6,
   "id": "e9bd4a41",
   "metadata": {},
   "outputs": [
    {
     "name": "stdout",
     "output_type": "stream",
     "text": [
      "Input a number to compute the factorial: 2114\n"
     ]
    },
    {
     "ename": "ValueError",
     "evalue": "Exceeds the limit (4300) for integer string conversion; use sys.set_int_max_str_digits() to increase the limit",
     "output_type": "error",
     "traceback": [
      "\u001b[1;31m---------------------------------------------------------------------------\u001b[0m",
      "\u001b[1;31mValueError\u001b[0m                                Traceback (most recent call last)",
      "Cell \u001b[1;32mIn[6], line 9\u001b[0m\n\u001b[0;32m      5\u001b[0m         \u001b[38;5;28;01mreturn\u001b[39;00m n \u001b[38;5;241m*\u001b[39m factorial(n \u001b[38;5;241m-\u001b[39m \u001b[38;5;241m1\u001b[39m)\n\u001b[0;32m      7\u001b[0m n \u001b[38;5;241m=\u001b[39m \u001b[38;5;28mint\u001b[39m(\u001b[38;5;28minput\u001b[39m(\u001b[38;5;124m\"\u001b[39m\u001b[38;5;124mInput a number to compute the factorial: \u001b[39m\u001b[38;5;124m\"\u001b[39m))\n\u001b[1;32m----> 9\u001b[0m \u001b[38;5;28;43mprint\u001b[39;49m\u001b[43m(\u001b[49m\u001b[43mfactorial\u001b[49m\u001b[43m(\u001b[49m\u001b[43mn\u001b[49m\u001b[43m)\u001b[49m\u001b[43m)\u001b[49m\n",
      "\u001b[1;31mValueError\u001b[0m: Exceeds the limit (4300) for integer string conversion; use sys.set_int_max_str_digits() to increase the limit"
     ]
    }
   ],
   "source": [
    "def factorial(n):\n",
    "    if n == 0:\n",
    "        return 1\n",
    "    else:\n",
    "        return n * factorial(n - 1)\n",
    "\n",
    "n = int(input(\"Input a number to compute the factorial: \"))\n",
    "\n",
    "print(factorial(n))\n"
   ]
  },
  {
   "cell_type": "code",
   "execution_count": 7,
   "id": "4471808c",
   "metadata": {},
   "outputs": [
    {
     "name": "stdout",
     "output_type": "stream",
     "text": [
      "Input a number to compute the factorial: 1212\n",
      "604135383188240660162062201902983115620134526741683204183911779118376949163304900218275305254509836515199782057180412858675500826884011235948149341010090980180274578980636101845437920995072691843657518709215170925709674182944495490951285259529977633701541144218281803803537959815544355268213913396390421869716387966803332531644779549110444732848274145526192540229891468232088152026709472627474511831824106731741959500133420588681367116055608266812366211583464206097744064369252695048258432210489179654857549669504400984774521801046787591227929812681147672247269091290078587854587894279178430462981182873167424375398652349349950617741213838868888476975961247481555790007344520321583025497948787119945934987231774618732823592977506933414425251648207264342096535937157445957748482187824154064989544797240302950523305071725098909535688444534749939018291587951517624228147485571759396196844881344069074482073516569806603122258796892676181897059223623323951675449971395654133549307796320790071187549964446531802102599465744452613329799380263551424297773839747577708393709721602278651986554998799368150511993092622604086541075260839011391772900015290353281728303385621620548377926001091013674144000318195738914000698936354529041123536852072557245346396082900701657121196312892982029238781041922228277173361938152060889731666592910689952132259430838959873632980060225490248397139089330829148775050765787254246221934518591947183215796108790561392837398829002822672807001171361521652666054321523238547369993013012867514604294805339303644925569982736204364762281108099123692564799189494088288933071586431945221833286560626235788996782480300823674982751757496674577130415325590376492548519056938070779334696628910788254693242392863833405082053469663636557208429759336773648992156180915146011472550621735477947899339207003335213729468116977443037801449594663833259613975065554754395986473716973328865329256765659326597302156347277650266275857205587204608650231804595179090112815019416337908939366499162882049680331375432778205639072617130688880168760917828683607051387609848104841763358931770274637619518604269181593557474029250361143081859217298812202155145140283999553645065043462938475676539396888295702868821150742892874917029673720301983851934472962731599190203693381108999014008289316851506165206479687810486801689969810929591360036526458557053207627804733847255913723564821613316025292994466039907861576134871927829632710978411569999272468130341241816159062450500600650422332381288330648233325764929642309437916084484753600682064961187124442884533554075063228483741631241648253675589740699802834321381421567993515082152236738824200322896547132124477225212441324503517262759609759456701410012097210588567575248307542112698560698403339656184729975928246324245420730437245839335633333199919498405446187802154080505058719571548160606589856510781721458438619152417186144905161302475452720205341707028745264543137488013623296000000000000000000000000000000000000000000000000000000000000000000000000000000000000000000000000000000000000000000000000000000000000000000000000000000000000000000000000000000000000000000000000000000000000000000000000000000000000000000000000000000000000000000000000000000000000000000000000000000000000\n"
     ]
    }
   ],
   "source": [
    "def factorial(n):\n",
    "    if n == 0:\n",
    "        return 1\n",
    "    else:\n",
    "        return n * factorial(n - 1)\n",
    "\n",
    "n = int(input(\"Input a number to compute the factorial: \"))\n",
    "\n",
    "print(factorial(n))"
   ]
  },
  {
   "cell_type": "code",
   "execution_count": 8,
   "id": "99623803",
   "metadata": {},
   "outputs": [
    {
     "name": "stdout",
     "output_type": "stream",
     "text": [
      "Enter the length of the first side: 1212\n",
      "Enter the length of the second side: 1414\n",
      "The length of the third side in the right-angled triangle is: 1862.3479803731632\n"
     ]
    }
   ],
   "source": [
    "def find_third_side(side1, side2):\n",
    "    third_side = (side1**2 + side2**2)**0.5\n",
    "    return third_side\n",
    "\n",
    "side1 = float(input(\"Enter the length of the first side: \"))\n",
    "side2 = float(input(\"Enter the length of the second side: \"))\n",
    "\n",
    "third_side = find_third_side(side1, side2)\n",
    "\n",
    "print(f\"The length of the third side in the right-angled triangle is: {third_side}\")\n"
   ]
  },
  {
   "cell_type": "code",
   "execution_count": 23,
   "id": "7577ab1e",
   "metadata": {},
   "outputs": [
    {
     "name": "stdout",
     "output_type": "stream",
     "text": [
      "{'d': 1, 'i': 2, 'p': 1, 'e': 3, 's': 2, 'h': 2, ' ': 1, 'r': 2, 'a': 1, 'j': 1, 'k': 1}\n"
     ]
    }
   ],
   "source": [
    "def char_frequency(str1):\n",
    "    dict = {}\n",
    "    for n in str1:\n",
    "        keys = dict.keys()\n",
    "        if n in keys:\n",
    "            dict[n] += 1\n",
    "        else:\n",
    "            dict[n] = 1\n",
    "    return dict\n",
    "\n",
    "print(char_frequency('dipesh rajeshirke'))\n"
   ]
  },
  {
   "cell_type": "code",
   "execution_count": null,
   "id": "0c67d58a",
   "metadata": {},
   "outputs": [],
   "source": []
  },
  {
   "cell_type": "code",
   "execution_count": null,
   "id": "b4fc3665",
   "metadata": {},
   "outputs": [],
   "source": []
  }
 ],
 "metadata": {
  "kernelspec": {
   "display_name": "Python 3 (ipykernel)",
   "language": "python",
   "name": "python3"
  },
  "language_info": {
   "codemirror_mode": {
    "name": "ipython",
    "version": 3
   },
   "file_extension": ".py",
   "mimetype": "text/x-python",
   "name": "python",
   "nbconvert_exporter": "python",
   "pygments_lexer": "ipython3",
   "version": "3.10.9"
  }
 },
 "nbformat": 4,
 "nbformat_minor": 5
}
